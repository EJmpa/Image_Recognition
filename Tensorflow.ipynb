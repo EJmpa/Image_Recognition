{
  "cells": [
    {
      "cell_type": "markdown",
      "metadata": {
        "id": "view-in-github",
        "colab_type": "text"
      },
      "source": [
        "<a href=\"https://colab.research.google.com/github/EJmpa/Image_Recognition/blob/main/Tensorflow.ipynb\" target=\"_parent\"><img src=\"https://colab.research.google.com/assets/colab-badge.svg\" alt=\"Open In Colab\"/></a>"
      ]
    },
    {
      "cell_type": "markdown",
      "id": "517c95e4-5254-4788-9dc6-2d082b158ce6",
      "metadata": {
        "id": "517c95e4-5254-4788-9dc6-2d082b158ce6"
      },
      "source": [
        "# 1. Importation of libraries"
      ]
    },
    {
      "cell_type": "code",
      "execution_count": null,
      "id": "257f0c2b-0b81-4178-ae9f-22fb562f320a",
      "metadata": {
        "id": "257f0c2b-0b81-4178-ae9f-22fb562f320a"
      },
      "outputs": [],
      "source": [
        "import numpy as np\n",
        "import pandas as pd\n",
        "import random\n",
        "import tensorflow as tf\n",
        "import matplotlib.pyplot as plt\n",
        "\n",
        "from tensorflow.keras.models import Sequential\n",
        "from tensorflow.keras.layers import Flatten, Conv2D, Dense, MaxPooling2D\n",
        "from tensorflow.keras.optimizers import SGD\n",
        "from tensorflow.keras.utils import to_categorical\n",
        "from tensorflow.keras.datasets import mnist"
      ]
    },
    {
      "cell_type": "markdown",
      "id": "3357fb29-c7e9-4cab-aaab-c68a9aefd050",
      "metadata": {
        "id": "3357fb29-c7e9-4cab-aaab-c68a9aefd050"
      },
      "source": [
        "# 2. Loading MNIST Dataset"
      ]
    },
    {
      "cell_type": "markdown",
      "id": "a2edaddd-8e9b-49c1-a7d0-1fc0e39a45f7",
      "metadata": {
        "id": "a2edaddd-8e9b-49c1-a7d0-1fc0e39a45f7"
      },
      "source": [
        "The `MNIST` Dataset contains `70,000 28x28` images showing handwritten digits.\n",
        "\n",
        "The function returns the dataset split into `train` and `test` sets"
      ]
    },
    {
      "cell_type": "code",
      "execution_count": null,
      "id": "17605394-ee3a-486a-bd16-3df78f8c11a8",
      "metadata": {
        "id": "17605394-ee3a-486a-bd16-3df78f8c11a8",
        "outputId": "b1d77253-1b7b-4212-f159-1328c942ac48"
      },
      "outputs": [
        {
          "name": "stdout",
          "output_type": "stream",
          "text": [
            "Downloading data from https://storage.googleapis.com/tensorflow/tf-keras-datasets/mnist.npz\n",
            "11490434/11490434 [==============================] - 4s 0us/step\n",
            "x_train shape: (60000, 28, 28)\n",
            "y_train shape: (60000,)\n",
            "x_test shape: (10000, 28, 28)\n",
            "y_test shape: (10000,)\n"
          ]
        }
      ],
      "source": [
        "(x_train, y_train), (x_test, y_test) = mnist.load_data()\n",
        "print(\"x_train shape:\", x_train.shape)\n",
        "print(\"y_train shape:\", y_train.shape)\n",
        "print(\"x_test shape:\", x_test.shape)\n",
        "print(\"y_test shape:\", y_test.shape)"
      ]
    },
    {
      "cell_type": "markdown",
      "id": "c29d8a86-d1b0-414a-bfc2-4470855ac912",
      "metadata": {
        "id": "c29d8a86-d1b0-414a-bfc2-4470855ac912"
      },
      "source": [
        "The `x_train` and `x_test` contain the `train` and `test` images.\n",
        "\n",
        "The `y_train` and `y_test` contain the target values: a number between `0` and `9` indicating the digit shown in the corresponding image.\n",
        "\n",
        "There are `60,000` images to train the model and `10,000` to test"
      ]
    },
    {
      "cell_type": "markdown",
      "id": "30db1363-9cbc-4083-8121-148b8d6ba3e0",
      "metadata": {
        "id": "30db1363-9cbc-4083-8121-148b8d6ba3e0"
      },
      "source": [
        "When dealing with images, a tensor with 4 dimensions: `batch size`, `width`, `height`, and `color channels`.\n",
        "\n",
        "`x_train` is `(60 000, 28, 28)`. It must be reshaped to add missing dimension `(\"1\" because these images are grayscale)`"
      ]
    },
    {
      "cell_type": "markdown",
      "id": "f37800e7-9e8f-4aa8-b29e-2e26fa71891e",
      "metadata": {
        "id": "f37800e7-9e8f-4aa8-b29e-2e26fa71891e"
      },
      "source": [
        "# 3. Reshape x_train"
      ]
    },
    {
      "cell_type": "code",
      "execution_count": null,
      "id": "81dc3f65-1581-40db-8e12-9325c1d1c4d1",
      "metadata": {
        "id": "81dc3f65-1581-40db-8e12-9325c1d1c4d1"
      },
      "outputs": [],
      "source": [
        "x_train = x_train.reshape((x_train.shape[0], 28, 28, 1))"
      ]
    },
    {
      "cell_type": "markdown",
      "id": "94b8920b-cfe2-4a12-a082-fff3cc07e9b6",
      "metadata": {
        "id": "94b8920b-cfe2-4a12-a082-fff3cc07e9b6"
      },
      "source": [
        "Each pixel goes from `0` to `255`. Neural networks work much better with smaller values.\n",
        "\n",
        "Here we normalize pixels by dividing them by `255`. That way, each pixel will go from `0` to `1`."
      ]
    },
    {
      "cell_type": "markdown",
      "id": "28735cb7-a737-4888-a3b4-c2b4e983813c",
      "metadata": {
        "id": "28735cb7-a737-4888-a3b4-c2b4e983813c"
      },
      "source": [
        "## 3.1. Normalize x_train"
      ]
    },
    {
      "cell_type": "code",
      "execution_count": null,
      "id": "cfd5988c-c5d1-4d61-adca-905abba078e7",
      "metadata": {
        "id": "cfd5988c-c5d1-4d61-adca-905abba078e7"
      },
      "outputs": [],
      "source": [
        "x_train = x_train.astype('float32')/255"
      ]
    },
    {
      "cell_type": "markdown",
      "id": "9ed224b1-9828-4bb1-894b-078299b5fe15",
      "metadata": {
        "id": "9ed224b1-9828-4bb1-894b-078299b5fe15"
      },
      "source": [
        "Target values go from `0` to `9` (the value of each digit.)\n",
        "\n",
        "This line one-hot encodes these values.\n",
        "\n",
        "For example, this will transform a value like 5 in an array of zeros with a single 1 corresponding to the fifth position:\n",
        "\n",
        "`[0, 0, 0, 0, 0, 1, 0, 0, 0, 0]`"
      ]
    },
    {
      "cell_type": "code",
      "execution_count": null,
      "id": "dede97dd-c188-4890-a3dd-e7fc6690da28",
      "metadata": {
        "id": "dede97dd-c188-4890-a3dd-e7fc6690da28"
      },
      "outputs": [],
      "source": [
        "y_train = to_categorical(y_train)"
      ]
    },
    {
      "cell_type": "markdown",
      "id": "f2afbedb-b30f-4cf1-a52b-6c85ba733693",
      "metadata": {
        "id": "f2afbedb-b30f-4cf1-a52b-6c85ba733693"
      },
      "source": [
        "# 4. Train Model"
      ]
    },
    {
      "cell_type": "markdown",
      "id": "903a45f6-1f93-41a6-860e-812a842482bc",
      "metadata": {
        "id": "903a45f6-1f93-41a6-860e-812a842482bc"
      },
      "source": [
        "Let's now define our model.\n",
        "\n",
        "There are several ways to create a model in Keras. This one is called the `\"Sequential API.\"`\n",
        "\n",
        "Our model will be a sequence of layers we will define individually."
      ]
    },
    {
      "cell_type": "markdown",
      "id": "b686d325-aa97-46b8-89c2-5f245acb92f1",
      "metadata": {
        "id": "b686d325-aa97-46b8-89c2-5f245acb92f1"
      },
      "source": [
        "A lot is going on with this first line.\n",
        "\n",
        "First, we define our model's input shape: a 28x28x1 tensor (width, height, channels.)\n",
        "\n",
        "This is exactly the shape we have in our train dataset."
      ]
    },
    {
      "cell_type": "code",
      "execution_count": null,
      "id": "de2e4c18-b5fb-4aa8-940c-d6ac1c7f74df",
      "metadata": {
        "id": "de2e4c18-b5fb-4aa8-940c-d6ac1c7f74df"
      },
      "outputs": [],
      "source": [
        "model = Sequential([\n",
        "    Conv2D(32, (3, 3), activation='relu', input_shape=(28, 28, 1)),\n",
        "    MaxPooling2D((2, 2)),\n",
        "    Flatten(),\n",
        "    Dense(100, activation='relu'),\n",
        "    Dense(10, activation='softmax')\n",
        "])"
      ]
    },
    {
      "cell_type": "markdown",
      "id": "f237a151-f410-4fbd-a87c-63f3e44b76f0",
      "metadata": {
        "id": "f237a151-f410-4fbd-a87c-63f3e44b76f0"
      },
      "source": [
        "A lot is going on with this first line.\n",
        "First, we define our model's input shape: a 28x28x1 tensor (width, height, channels.)\n",
        "This is exactly the shape we have in our train dataset.\n",
        "\n",
        "\n",
        "Then we define our first layer: a `Conv2D` layer with 32 filters and a 3x3 kernel.\n",
        "This layer will generate 32 different representations using the training images.\n",
        "\n",
        "\n",
        "We must also define the activation function used for this layer: `ReLU`.\n",
        "You'll see `ReLU` everywhere. It's a popular activation function.\n",
        "It will allow us to solve non-linear problems, like recognizing handwritten digits.ers."
      ]
    },
    {
      "cell_type": "markdown",
      "id": "62f44d24-e3bf-4755-b6af-95221aec79a4",
      "metadata": {
        "id": "62f44d24-e3bf-4755-b6af-95221aec79a4"
      },
      "source": [
        "After our `Conv2D` layer, we have a max pooling operation.\n",
        "The goal of this layer is to downsample the amount of information collected by the convolutional layer.\n",
        "We want to throw away unimportant details and retain what truly matters..\n"
      ]
    },
    {
      "cell_type": "markdown",
      "id": "04d46117-b32c-4ff5-a360-a9188fae4dda",
      "metadata": {
        "id": "04d46117-b32c-4ff5-a360-a9188fae4dda"
      },
      "source": [
        "We are now going to flatten the output. We want everything in a continuous list of values.\n",
        "That is  what the `Flatten` layer does. It will give us a flat tensor."
      ]
    },
    {
      "cell_type": "markdown",
      "id": "36da3838-4a59-4807-917b-f853a72bdab2",
      "metadata": {
        "id": "36da3838-4a59-4807-917b-f853a72bdab2"
      },
      "source": [
        "Finally, we have a couple of `Dense` layers.\n",
        "Notice how the output layer has a size of 10, one for each of our possible digit values, and a `softmax activation.`\n",
        "The `softmax` ensures we get a probability distribution indicating the most likely digit in the image."
      ]
    },
    {
      "cell_type": "markdown",
      "id": "7886722d-07e3-4a58-b569-cde0b296098d",
      "metadata": {
        "id": "7886722d-07e3-4a58-b569-cde0b296098d"
      },
      "source": [
        "## 4.1. Model compilation"
      ]
    },
    {
      "cell_type": "markdown",
      "id": "e3546f28-1af9-4615-b8ee-4a781478b911",
      "metadata": {
        "id": "e3546f28-1af9-4615-b8ee-4a781478b911"
      },
      "source": [
        "After creating our model, we compile it.\n",
        "I'm using `Stochastic Gradient Descent (SGD)` as the optimizer.\n",
        "The loss is categorical cross-entropy because this is a multi-class classification problem.\n",
        "We want to record the accuracy as the model trains."
      ]
    },
    {
      "cell_type": "code",
      "execution_count": null,
      "id": "766c19b2-9c6d-4a7c-befd-b66bbeaf3030",
      "metadata": {
        "id": "766c19b2-9c6d-4a7c-befd-b66bbeaf3030"
      },
      "outputs": [],
      "source": [
        "optimizer = SGD(learning_rate=0.01, momentum=0.9)\n",
        "model.compile(\n",
        "    optimizer=optimizer,\n",
        "    loss='categorical_crossentropy',\n",
        "    metrics=['accuracy']\n",
        ")"
      ]
    },
    {
      "cell_type": "markdown",
      "id": "d08b3004-d02b-44cb-a423-8a129f305c30",
      "metadata": {
        "id": "d08b3004-d02b-44cb-a423-8a129f305c30"
      },
      "source": [
        "## 4.2. Fit the Model"
      ]
    },
    {
      "cell_type": "markdown",
      "id": "9b53eee2-ea44-4a98-8428-9cd15e901c33",
      "metadata": {
        "id": "9b53eee2-ea44-4a98-8428-9cd15e901c33"
      },
      "source": [
        "Finally, we fit the model. This starts the training process.\n",
        "\n",
        "A couple of notes:\n",
        "\n",
        "• I'm using a batch size of 32 images.\n",
        "• I'm running 10 total epochs.\n",
        "\n",
        "When fit() is done, we'll have a fully trained model!"
      ]
    },
    {
      "cell_type": "code",
      "execution_count": null,
      "id": "1293fe2d-8009-4828-9a34-a5c4976e165a",
      "metadata": {
        "id": "1293fe2d-8009-4828-9a34-a5c4976e165a",
        "outputId": "502e7f3c-bec4-4688-cbb0-e02dbb15bc8f"
      },
      "outputs": [
        {
          "name": "stdout",
          "output_type": "stream",
          "text": [
            "Epoch 1/10\n",
            "1875/1875 [==============================] - 41s 19ms/step - loss: 0.2374 - accuracy: 0.9276\n",
            "Epoch 2/10\n",
            "1875/1875 [==============================] - 29s 16ms/step - loss: 0.0776 - accuracy: 0.9761\n",
            "Epoch 3/10\n",
            "1875/1875 [==============================] - 33s 17ms/step - loss: 0.0497 - accuracy: 0.9848\n",
            "Epoch 4/10\n",
            "1875/1875 [==============================] - 31s 16ms/step - loss: 0.0362 - accuracy: 0.9888\n",
            "Epoch 5/10\n",
            "1875/1875 [==============================] - 29s 15ms/step - loss: 0.0267 - accuracy: 0.9916\n",
            "Epoch 6/10\n",
            "1875/1875 [==============================] - 29s 16ms/step - loss: 0.0200 - accuracy: 0.9940\n",
            "Epoch 7/10\n",
            "1875/1875 [==============================] - 29s 15ms/step - loss: 0.0149 - accuracy: 0.9956\n",
            "Epoch 8/10\n",
            "1875/1875 [==============================] - 30s 16ms/step - loss: 0.0112 - accuracy: 0.9967\n",
            "Epoch 9/10\n",
            "1875/1875 [==============================] - 29s 15ms/step - loss: 0.0087 - accuracy: 0.9976\n",
            "Epoch 10/10\n",
            "1875/1875 [==============================] - 30s 16ms/step - loss: 0.0059 - accuracy: 0.9985\n"
          ]
        }
      ],
      "source": [
        "history = model.fit(x_train, y_train, epochs=10, batch_size=32)"
      ]
    },
    {
      "cell_type": "markdown",
      "id": "760c1223-47d3-4de3-af18-5cb230ffc1bb",
      "metadata": {
        "id": "760c1223-47d3-4de3-af18-5cb230ffc1bb"
      },
      "source": [
        "## 4.3. Test the Model"
      ]
    },
    {
      "cell_type": "markdown",
      "id": "7865f89a-0f9b-4936-ad3f-e918e6b9f28c",
      "metadata": {
        "id": "7865f89a-0f9b-4936-ad3f-e918e6b9f28c"
      },
      "source": [
        "Let's now test the model.\n",
        "\n",
        "This gets a random image from the test set and displays it.\n",
        "\n",
        "Notice that we want the image to come from the test set, containing data the model didn't see during training."
      ]
    },
    {
      "cell_type": "code",
      "execution_count": null,
      "id": "27d783d4-826c-4435-bda5-659c45501608",
      "metadata": {
        "id": "27d783d4-826c-4435-bda5-659c45501608",
        "outputId": "99450754-68b8-45fa-8197-d904907a45e8"
      },
      "outputs": [
        {
          "data": {
            "image/png": "[encoded data removed]",
            "text/plain": [
              "<Figure size 640x480 with 1 Axes>"
            ]
          },
          "metadata": {},
          "output_type": "display_data"
        }
      ],
      "source": [
        "image = random.choice(x_test)\n",
        "\n",
        "plt.imshow(image, cmap=plt.get_cmap('gray'))\n",
        "plt.show()"
      ]
    },
    {
      "cell_type": "markdown",
      "id": "2a29ea9d-5255-434b-aa13-34ac751dc387",
      "metadata": {
        "id": "2a29ea9d-5255-434b-aa13-34ac751dc387"
      },
      "source": [
        "Let's reshape and normalize the `image` as did to `x_train`"
      ]
    },
    {
      "cell_type": "code",
      "execution_count": null,
      "id": "0c2b88e2-15d9-4739-af76-3d6d33a48008",
      "metadata": {
        "id": "0c2b88e2-15d9-4739-af76-3d6d33a48008"
      },
      "outputs": [],
      "source": [
        "image = (image.reshape((1, 28, 28, 1))).astype('float32') / 255.0"
      ]
    },
    {
      "cell_type": "markdown",
      "id": "96daffcb-d104-4468-9f88-df9cef1769dc",
      "metadata": {
        "id": "96daffcb-d104-4468-9f88-df9cef1769dc"
      },
      "source": [
        "Finally, I predict the value of the image.\n",
        "\n",
        "Remember that the result is a one-hot-encoded vector. That's why I take the argmax value (the position with the highest probability), and that's the result."
      ]
    },
    {
      "cell_type": "markdown",
      "id": "4dab193e-4fa6-4598-b4c4-5e2d56b33d8e",
      "metadata": {
        "id": "4dab193e-4fa6-4598-b4c4-5e2d56b33d8e"
      },
      "source": [
        "# 5. Prediction"
      ]
    },
    {
      "cell_type": "code",
      "execution_count": null,
      "id": "e26c60dc-958b-4228-a786-8c7201bcb044",
      "metadata": {
        "id": "e26c60dc-958b-4228-a786-8c7201bcb044",
        "outputId": "4f5de9f4-b978-4ee7-a618-90d3e3b53785"
      },
      "outputs": [
        {
          "name": "stdout",
          "output_type": "stream",
          "text": [
            "1/1 [==============================] - 0s 299ms/step\n",
            "Prediction: 4\n"
          ]
        }
      ],
      "source": [
        "digit = np.argmax(model.predict(image)[0], axis=-1)\n",
        "print(\"Prediction:\", digit)"
      ]
    },
    {
      "cell_type": "code",
      "execution_count": null,
      "id": "8fe718f8-33dd-4034-b437-dfc80655395c",
      "metadata": {
        "id": "8fe718f8-33dd-4034-b437-dfc80655395c"
      },
      "outputs": [],
      "source": []
    }
  ],
  "metadata": {
    "kernelspec": {
      "display_name": "Python 3 (ipykernel)",
      "language": "python",
      "name": "python3"
    },
    "language_info": {
      "codemirror_mode": {
        "name": "ipython",
        "version": 3
      },
      "file_extension": ".py",
      "mimetype": "text/x-python",
      "name": "python",
      "nbconvert_exporter": "python",
      "pygments_lexer": "ipython3",
      "version": "3.11.3"
    },
    "colab": {
      "provenance": [],
      "include_colab_link": true
    }
  },
  "nbformat": 4,
  "nbformat_minor": 5
}